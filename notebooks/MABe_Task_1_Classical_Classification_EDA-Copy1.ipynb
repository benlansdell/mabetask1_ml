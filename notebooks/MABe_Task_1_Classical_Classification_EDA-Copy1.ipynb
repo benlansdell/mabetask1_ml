{
 "cells": [
  {
   "cell_type": "markdown",
   "metadata": {
    "id": "f4w4yZOfV5le"
   },
   "source": [
    "<h1> <center>\n",
    "🐀🐀🐀🐀🐀🐀🐀🐀🐀🐀🐀🐁🐁🐁🐁🐁🐁🐁🐁🐁🐁<br>\n",
    "🐀 MABe Classical Classification: Baseline 💪 🐁<br>\n",
    "🐀🐀🐀🐀🐀🐀🐀🐀🐀🐀🐀🐁🐁🐁🐁🐁🐁🐁🐁🐁🐁\n",
    "</center>\n",
    "</h1>\n",
    "\n",
    "<p align=\"center\"><img src=\"https://images.aicrowd.com/uploads/ckeditor/pictures/324/content_task1_structure.png\">\n",
    "</p>"
   ]
  },
  {
   "cell_type": "code",
   "execution_count": null,
   "metadata": {},
   "outputs": [],
   "source": [
    "cd /home/blansdel/projects/mabe-task1/"
   ]
  },
  {
   "cell_type": "code",
   "execution_count": 6,
   "metadata": {
    "id": "G4CVVoCjIN95"
   },
   "outputs": [],
   "source": [
    "import numpy as np\n",
    "import os\n",
    "\n",
    "from tensorflow import keras\n",
    "import tensorflow as tf\n",
    "from keras.models import Sequential\n",
    "import keras.layers as layers\n",
    "import tensorflow_addons as tfa\n",
    "\n",
    "import sklearn\n",
    "import matplotlib.pyplot as plt\n",
    "import pandas as pd\n",
    "from sklearn.model_selection import train_test_split\n",
    "from copy import deepcopy\n",
    "import tqdm\n",
    "import gc\n",
    "\n",
    "from matplotlib import rc\n",
    "\n",
    "from lib.config import *\n",
    "\n",
    "from lib.utils import animate_pose_sequence, plot_annotation_strip"
   ]
  },
  {
   "cell_type": "markdown",
   "metadata": {
    "id": "7MLxouZUvTRa"
   },
   "source": [
    "# Load Data\n",
    "The dataset files are python dictionaries, [this](https://colab.research.google.com/drive/1ddCX-TAdEcsUaGf09f5Glgr_G57FMK_O#scrollTo=JPsfxdl2GMcM&line=18&uniqifier=1) is a descirption of how the data is organized.\n",
    "\n"
   ]
  },
  {
   "cell_type": "code",
   "execution_count": 6,
   "metadata": {
    "id": "RopVoFl1vTRb"
   },
   "outputs": [],
   "source": [
    "train = np.load('data/train.npy',allow_pickle=True).item()\n",
    "test = np.load('data/test.npy',allow_pickle=True).item()\n",
    "sample_submission = np.load('data/sample_submission.npy',allow_pickle=True).item()"
   ]
  },
  {
   "cell_type": "markdown",
   "metadata": {
    "id": "YFcS9p3haBkK"
   },
   "source": [
    "## Dataset Specifications 💾\n",
    "\n",
    "-   **`train.npy`** - Training set for the task, which follows the following schema:\n",
    "\n",
    "<p align=\"left\" style=\"padding: 30px\">&nbsp;&nbsp;&nbsp;&nbsp;&nbsp;&nbsp;&nbsp;&nbsp;&nbsp;&nbsp;&nbsp;<img width=\"600px\" src=\"https://i.imgur.com/GddvoT2.png\">\n",
    "</p>\n",
    "\n",
    "\n",
    "-   **`test-release.npy`** - Test set for the task, which follows the following schema :\n",
    "\n",
    "<p align=\"left\" style=\"padding: 30px\">&nbsp;&nbsp;&nbsp;&nbsp;&nbsp;&nbsp;&nbsp;&nbsp;&nbsp;&nbsp;&nbsp;<img width=\"600px\" src=\"https://i.imgur.com/vfa8Y4V.png\">\n",
    "</p>\n",
    "\n",
    "-   **`sample_submission.npy`** - Template for a sample submission which follows the following schema\n",
    "\n",
    "```json\n",
    "{\n",
    "    \"<sequence_id-1>\" : [0, 0, 1, 2, ...],\n",
    "    \"<sequence_id-2>\" : [0, 1, 2, 0, ...]\n",
    "}\n",
    "```\n",
    "\n",
    "Each key in the dictionary here refers to the unique sequence id obtained for the sequences in the test set.\n",
    "The value for each of the keys is expected to hold a list of corresponing annotations. The annotations are represented by the index of the corresponding annotation words in the vocabular provided in the test set."
   ]
  },
  {
   "cell_type": "markdown",
   "metadata": {
    "id": "JUkb35tcf4bn"
   },
   "source": [
    "## How does the data look like? 🔍\n",
    "\n",
    "### Data overview"
   ]
  },
  {
   "cell_type": "code",
   "execution_count": 7,
   "metadata": {
    "colab": {
     "base_uri": "https://localhost:8080/"
    },
    "id": "CYIC5DW_oRPb",
    "outputId": "8f58fef5-f5ff-410f-c921-d9d8828f96bb"
   },
   "outputs": [
    {
     "name": "stdout",
     "output_type": "stream",
     "text": [
      "Dataset keys -  dict_keys(['vocabulary', 'sequences'])\n",
      "Vocabulary -  {'attack': 0, 'investigation': 1, 'mount': 2, 'other': 3}\n",
      "Number of train Sequences -  70\n",
      "Number of test Sequences -  458\n"
     ]
    }
   ],
   "source": [
    "print(\"Dataset keys - \", train.keys())\n",
    "print(\"Vocabulary - \", train['vocabulary'])\n",
    "print(\"Number of train Sequences - \", len(train['sequences']))\n",
    "print(\"Number of test Sequences - \", len(test['sequences']))"
   ]
  },
  {
   "cell_type": "markdown",
   "metadata": {
    "id": "luUly4Y1i4L-"
   },
   "source": [
    "### Sample overview"
   ]
  },
  {
   "cell_type": "code",
   "execution_count": 8,
   "metadata": {
    "colab": {
     "base_uri": "https://localhost:8080/"
    },
    "id": "Hh9dj4wG3rV0",
    "outputId": "368895cc-71ce-4e31-e36c-221d1a3b247c"
   },
   "outputs": [
    {
     "name": "stdout",
     "output_type": "stream",
     "text": [
      "Sequence name -  1cac195d39\n",
      "Single Sequence keys  dict_keys(['keypoints', 'annotator_id', 'annotations'])\n",
      "Number of Frames in 1cac195d39 -  4879\n",
      "Keypoints data shape of 1cac195d39 -  (4879, 2, 2, 7)\n",
      "annotator_id of 1cac195d39 -  0\n"
     ]
    }
   ],
   "source": [
    "sequence_names = list(train[\"sequences\"].keys())\n",
    "sequence_key = sequence_names[0]\n",
    "single_sequence = train[\"sequences\"][sequence_key]\n",
    "print(\"Sequence name - \", sequence_key)\n",
    "print(\"Single Sequence keys \", single_sequence.keys())\n",
    "print(f\"Number of Frames in {sequence_key} - \", len(single_sequence['annotations']))\n",
    "print(f\"Keypoints data shape of {sequence_key} - \", single_sequence['keypoints'].shape)\n",
    "print(f\"annotator_id of {sequence_key} - \", single_sequence['annotator_id'])"
   ]
  },
  {
   "cell_type": "markdown",
   "metadata": {
    "id": "_WGK1pjV81oc"
   },
   "source": [
    "# Helper function for visualization 💁\n",
    "\n",
    "\n",
    "\n",
    "\n",
    "Don't forget to run the cell 😉"
   ]
  },
  {
   "cell_type": "code",
   "execution_count": 4,
   "metadata": {
    "id": "kf7CXiH85odZ"
   },
   "outputs": [
    {
     "ename": "NameError",
     "evalue": "name 'train' is not defined",
     "output_type": "error",
     "traceback": [
      "\u001b[0;31m---------------------------------------------------------------------------\u001b[0m",
      "\u001b[0;31mNameError\u001b[0m                                 Traceback (most recent call last)",
      "\u001b[0;32m<ipython-input-4-97b757ad4311>\u001b[0m in \u001b[0;36m<module>\u001b[0;34m\u001b[0m\n\u001b[1;32m      1\u001b[0m \u001b[0mrc\u001b[0m\u001b[0;34m(\u001b[0m\u001b[0;34m'animation'\u001b[0m\u001b[0;34m,\u001b[0m \u001b[0mhtml\u001b[0m\u001b[0;34m=\u001b[0m\u001b[0;34m'jshtml'\u001b[0m\u001b[0;34m)\u001b[0m\u001b[0;34m\u001b[0m\u001b[0;34m\u001b[0m\u001b[0m\n\u001b[1;32m      2\u001b[0m \u001b[0;34m\u001b[0m\u001b[0m\n\u001b[0;32m----> 3\u001b[0;31m \u001b[0mclass_to_number\u001b[0m \u001b[0;34m=\u001b[0m \u001b[0;34m{\u001b[0m\u001b[0ms\u001b[0m\u001b[0;34m:\u001b[0m \u001b[0mi\u001b[0m \u001b[0;32mfor\u001b[0m \u001b[0mi\u001b[0m\u001b[0;34m,\u001b[0m \u001b[0ms\u001b[0m \u001b[0;32min\u001b[0m \u001b[0menumerate\u001b[0m\u001b[0;34m(\u001b[0m\u001b[0mtrain\u001b[0m\u001b[0;34m[\u001b[0m\u001b[0;34m'vocabulary'\u001b[0m\u001b[0;34m]\u001b[0m\u001b[0;34m)\u001b[0m\u001b[0;34m}\u001b[0m\u001b[0;34m\u001b[0m\u001b[0;34m\u001b[0m\u001b[0m\n\u001b[0m\u001b[1;32m      4\u001b[0m \u001b[0mnumber_to_class\u001b[0m \u001b[0;34m=\u001b[0m \u001b[0;34m{\u001b[0m\u001b[0mi\u001b[0m\u001b[0;34m:\u001b[0m \u001b[0ms\u001b[0m \u001b[0;32mfor\u001b[0m \u001b[0mi\u001b[0m\u001b[0;34m,\u001b[0m \u001b[0ms\u001b[0m \u001b[0;32min\u001b[0m \u001b[0menumerate\u001b[0m\u001b[0;34m(\u001b[0m\u001b[0mtrain\u001b[0m\u001b[0;34m[\u001b[0m\u001b[0;34m'vocabulary'\u001b[0m\u001b[0;34m]\u001b[0m\u001b[0;34m)\u001b[0m\u001b[0;34m}\u001b[0m\u001b[0;34m\u001b[0m\u001b[0;34m\u001b[0m\u001b[0m\n",
      "\u001b[0;31mNameError\u001b[0m: name 'train' is not defined"
     ]
    }
   ],
   "source": [
    "rc('animation', html='jshtml')\n",
    "\n",
    "class_to_number = {s: i for i, s in enumerate(train['vocabulary'])}\n",
    "number_to_class = {i: s for i, s in enumerate(train['vocabulary'])}"
   ]
  },
  {
   "cell_type": "markdown",
   "metadata": {
    "id": "p7WPezuV86QA"
   },
   "source": [
    "# Visualize the mouse movements🎥\n",
    "\n",
    "Sample visualization for plotting pose gifs."
   ]
  },
  {
   "cell_type": "code",
   "execution_count": 10,
   "metadata": {
    "colab": {
     "base_uri": "https://localhost:8080/",
     "height": 701
    },
    "id": "KSUZW-9J53kI",
    "outputId": "b602edd8-afd8-4243-eabf-f33cd0d19b75"
   },
   "outputs": [
    {
     "name": "stdout",
     "output_type": "stream",
     "text": [
      "Processing frame  3000\n"
     ]
    },
    {
     "ename": "NameError",
     "evalue": "name 'FRAME_HEIGHT_TOP' is not defined",
     "output_type": "error",
     "traceback": [
      "\u001b[0;31m---------------------------------------------------------------------------\u001b[0m",
      "\u001b[0;31mNameError\u001b[0m                                 Traceback (most recent call last)",
      "\u001b[0;32m<ipython-input-10-471d7a0a521a>\u001b[0m in \u001b[0;36m<module>\u001b[0;34m\u001b[0m\n\u001b[1;32m      6\u001b[0m                             \u001b[0mstart_frame\u001b[0m \u001b[0;34m=\u001b[0m \u001b[0;36m3000\u001b[0m\u001b[0;34m,\u001b[0m\u001b[0;34m\u001b[0m\u001b[0;34m\u001b[0m\u001b[0m\n\u001b[1;32m      7\u001b[0m                             \u001b[0mstop_frame\u001b[0m \u001b[0;34m=\u001b[0m \u001b[0;36m3100\u001b[0m\u001b[0;34m,\u001b[0m\u001b[0;34m\u001b[0m\u001b[0;34m\u001b[0m\u001b[0m\n\u001b[0;32m----> 8\u001b[0;31m                             annotation_sequence = annotation_sequence)\n\u001b[0m\u001b[1;32m      9\u001b[0m \u001b[0;34m\u001b[0m\u001b[0m\n\u001b[1;32m     10\u001b[0m \u001b[0;31m# Display the animaion on colab\u001b[0m\u001b[0;34m\u001b[0m\u001b[0;34m\u001b[0m\u001b[0;34m\u001b[0m\u001b[0m\n",
      "\u001b[0;32m~/projects/mabe-task1/lib/utils.py\u001b[0m in \u001b[0;36manimate_pose_sequence\u001b[0;34m(video_name, keypoint_sequence, start_frame, stop_frame, annotation_sequence)\u001b[0m\n\u001b[1;32m     73\u001b[0m         \u001b[0;32mif\u001b[0m \u001b[0mcounter\u001b[0m\u001b[0;34m%\u001b[0m\u001b[0;36m20\u001b[0m \u001b[0;34m==\u001b[0m \u001b[0;36m0\u001b[0m\u001b[0;34m:\u001b[0m\u001b[0;34m\u001b[0m\u001b[0;34m\u001b[0m\u001b[0m\n\u001b[1;32m     74\u001b[0m           \u001b[0mprint\u001b[0m\u001b[0;34m(\u001b[0m\u001b[0;34m\"Processing frame \"\u001b[0m\u001b[0;34m,\u001b[0m \u001b[0mj\u001b[0m\u001b[0;34m)\u001b[0m\u001b[0;34m\u001b[0m\u001b[0;34m\u001b[0m\u001b[0m\n\u001b[0;32m---> 75\u001b[0;31m         \u001b[0mfig\u001b[0m\u001b[0;34m,\u001b[0m \u001b[0max\u001b[0m \u001b[0;34m=\u001b[0m \u001b[0mset_figax\u001b[0m\u001b[0;34m(\u001b[0m\u001b[0;34m)\u001b[0m\u001b[0;34m\u001b[0m\u001b[0;34m\u001b[0m\u001b[0m\n\u001b[0m\u001b[1;32m     76\u001b[0m         \u001b[0mplot_mouse\u001b[0m\u001b[0;34m(\u001b[0m\u001b[0max\u001b[0m\u001b[0;34m,\u001b[0m \u001b[0mseq\u001b[0m\u001b[0;34m[\u001b[0m\u001b[0mj\u001b[0m\u001b[0;34m,\u001b[0m \u001b[0;36m0\u001b[0m\u001b[0;34m,\u001b[0m \u001b[0;34m:\u001b[0m\u001b[0;34m,\u001b[0m \u001b[0;34m:\u001b[0m\u001b[0;34m]\u001b[0m\u001b[0;34m,\u001b[0m \u001b[0mcolor\u001b[0m\u001b[0;34m=\u001b[0m\u001b[0mRESIDENT_COLOR\u001b[0m\u001b[0;34m)\u001b[0m\u001b[0;34m\u001b[0m\u001b[0;34m\u001b[0m\u001b[0m\n\u001b[1;32m     77\u001b[0m         \u001b[0mplot_mouse\u001b[0m\u001b[0;34m(\u001b[0m\u001b[0max\u001b[0m\u001b[0;34m,\u001b[0m \u001b[0mseq\u001b[0m\u001b[0;34m[\u001b[0m\u001b[0mj\u001b[0m\u001b[0;34m,\u001b[0m \u001b[0;36m1\u001b[0m\u001b[0;34m,\u001b[0m \u001b[0;34m:\u001b[0m\u001b[0;34m,\u001b[0m \u001b[0;34m:\u001b[0m\u001b[0;34m]\u001b[0m\u001b[0;34m,\u001b[0m \u001b[0mcolor\u001b[0m\u001b[0;34m=\u001b[0m\u001b[0mINTRUDER_COLOR\u001b[0m\u001b[0;34m)\u001b[0m\u001b[0;34m\u001b[0m\u001b[0;34m\u001b[0m\u001b[0m\n",
      "\u001b[0;32m~/projects/mabe-task1/lib/utils.py\u001b[0m in \u001b[0;36mset_figax\u001b[0;34m()\u001b[0m\n\u001b[1;32m     41\u001b[0m     \u001b[0mfig\u001b[0m \u001b[0;34m=\u001b[0m \u001b[0mplt\u001b[0m\u001b[0;34m.\u001b[0m\u001b[0mfigure\u001b[0m\u001b[0;34m(\u001b[0m\u001b[0mfigsize\u001b[0m\u001b[0;34m=\u001b[0m\u001b[0;34m(\u001b[0m\u001b[0;36m6\u001b[0m\u001b[0;34m,\u001b[0m \u001b[0;36m4\u001b[0m\u001b[0;34m)\u001b[0m\u001b[0;34m)\u001b[0m\u001b[0;34m\u001b[0m\u001b[0;34m\u001b[0m\u001b[0m\n\u001b[1;32m     42\u001b[0m \u001b[0;34m\u001b[0m\u001b[0m\n\u001b[0;32m---> 43\u001b[0;31m     \u001b[0mimg\u001b[0m \u001b[0;34m=\u001b[0m \u001b[0mnp\u001b[0m\u001b[0;34m.\u001b[0m\u001b[0mzeros\u001b[0m\u001b[0;34m(\u001b[0m\u001b[0;34m(\u001b[0m\u001b[0mFRAME_HEIGHT_TOP\u001b[0m\u001b[0;34m,\u001b[0m \u001b[0mFRAME_WIDTH_TOP\u001b[0m\u001b[0;34m,\u001b[0m \u001b[0;36m3\u001b[0m\u001b[0;34m)\u001b[0m\u001b[0;34m)\u001b[0m\u001b[0;34m\u001b[0m\u001b[0;34m\u001b[0m\u001b[0m\n\u001b[0m\u001b[1;32m     44\u001b[0m \u001b[0;34m\u001b[0m\u001b[0m\n\u001b[1;32m     45\u001b[0m     \u001b[0max\u001b[0m \u001b[0;34m=\u001b[0m \u001b[0mfig\u001b[0m\u001b[0;34m.\u001b[0m\u001b[0madd_subplot\u001b[0m\u001b[0;34m(\u001b[0m\u001b[0;36m111\u001b[0m\u001b[0;34m)\u001b[0m\u001b[0;34m\u001b[0m\u001b[0;34m\u001b[0m\u001b[0m\n",
      "\u001b[0;31mNameError\u001b[0m: name 'FRAME_HEIGHT_TOP' is not defined"
     ]
    },
    {
     "data": {
      "text/plain": [
       "<Figure size 432x288 with 0 Axes>"
      ]
     },
     "metadata": {},
     "output_type": "display_data"
    }
   ],
   "source": [
    "keypoint_sequence = single_sequence['keypoints']\n",
    "annotation_sequence = single_sequence['annotations']\n",
    "\n",
    "ani = animate_pose_sequence(sequence_key,\n",
    "                            keypoint_sequence, number_to_class, \n",
    "                            start_frame = 3000,\n",
    "                            stop_frame = 3100,\n",
    "                            annotation_sequence = annotation_sequence)\n",
    "\n",
    "# Display the animaion on colab\n",
    "ani"
   ]
  },
  {
   "cell_type": "markdown",
   "metadata": {
    "id": "_jhj4BtOkjM5"
   },
   "source": [
    "### Showing annotations of one of the sequeunce of the training data (Index needs to be selected for a full video)\n",
    "\n"
   ]
  },
  {
   "cell_type": "code",
   "execution_count": 10,
   "metadata": {
    "colab": {
     "base_uri": "https://localhost:8080/",
     "height": 120
    },
    "id": "1u28cZOL8G29",
    "outputId": "8e66937b-b5d2-4a1c-de52-61bd94d0ff9f"
   },
   "outputs": [
    {
     "data": {
      "image/png": "[encoded data removed]",
      "text/plain": [
       "<Figure size 1152x216 with 1 Axes>"
      ]
     },
     "metadata": {
      "needs_background": "light"
     },
     "output_type": "display_data"
    }
   ],
   "source": [
    "annotation_sequence = single_sequence['annotations']\n",
    "text_sequence = num_to_text(annotation_sequence)\n",
    " \n",
    "plot_annotation_strip(\n",
    "    text_sequence,\n",
    "    class_to_number,\n",
    "    start_frame=0,\n",
    "    stop_frame=len(annotation_sequence) + 1000\n",
    ")"
   ]
  },
  {
   "cell_type": "markdown",
   "metadata": {
    "id": "rOs2KLHe9Ip1"
   },
   "source": [
    "# Basic EDA 🤓\n",
    "Each sequence has different amounts of each behavior, here we get the percentage of frames of each behavior in each sequence. We can use this to split the dataset for validation in a stratified way."
   ]
  },
  {
   "cell_type": "code",
   "execution_count": 12,
   "metadata": {
    "colab": {
     "base_uri": "https://localhost:8080/",
     "height": 221
    },
    "id": "JoqaPWYM9gdi",
    "outputId": "6d4c868f-e121-4b29-ab47-b33f4c4a4350"
   },
   "outputs": [
    {
     "name": "stdout",
     "output_type": "stream",
     "text": [
      "Percentage of frames in every sequence for every class\n"
     ]
    },
    {
     "data": {
      "text/html": [
       "<div>\n",
       "<style scoped>\n",
       "    .dataframe tbody tr th:only-of-type {\n",
       "        vertical-align: middle;\n",
       "    }\n",
       "\n",
       "    .dataframe tbody tr th {\n",
       "        vertical-align: top;\n",
       "    }\n",
       "\n",
       "    .dataframe thead th {\n",
       "        text-align: right;\n",
       "    }\n",
       "</style>\n",
       "<table border=\"1\" class=\"dataframe\">\n",
       "  <thead>\n",
       "    <tr style=\"text-align: right;\">\n",
       "      <th></th>\n",
       "      <th>attack</th>\n",
       "      <th>investigation</th>\n",
       "      <th>mount</th>\n",
       "      <th>other</th>\n",
       "    </tr>\n",
       "  </thead>\n",
       "  <tbody>\n",
       "    <tr>\n",
       "      <th>1cac195d39</th>\n",
       "      <td>0.000000</td>\n",
       "      <td>0.077885</td>\n",
       "      <td>0.033818</td>\n",
       "      <td>0.888297</td>\n",
       "    </tr>\n",
       "    <tr>\n",
       "      <th>b40d39ca72</th>\n",
       "      <td>0.000000</td>\n",
       "      <td>0.625136</td>\n",
       "      <td>0.000000</td>\n",
       "      <td>0.374864</td>\n",
       "    </tr>\n",
       "    <tr>\n",
       "      <th>f45694e6b9</th>\n",
       "      <td>0.000000</td>\n",
       "      <td>0.375125</td>\n",
       "      <td>0.000000</td>\n",
       "      <td>0.624875</td>\n",
       "    </tr>\n",
       "    <tr>\n",
       "      <th>9212f26324</th>\n",
       "      <td>0.015467</td>\n",
       "      <td>0.112307</td>\n",
       "      <td>0.000000</td>\n",
       "      <td>0.872226</td>\n",
       "    </tr>\n",
       "    <tr>\n",
       "      <th>5490af36aa</th>\n",
       "      <td>0.438260</td>\n",
       "      <td>0.285662</td>\n",
       "      <td>0.010321</td>\n",
       "      <td>0.265757</td>\n",
       "    </tr>\n",
       "    <tr>\n",
       "      <th>...</th>\n",
       "      <td>...</td>\n",
       "      <td>...</td>\n",
       "      <td>...</td>\n",
       "      <td>...</td>\n",
       "    </tr>\n",
       "    <tr>\n",
       "      <th>bf702e3c78</th>\n",
       "      <td>0.000000</td>\n",
       "      <td>0.389482</td>\n",
       "      <td>0.000000</td>\n",
       "      <td>0.610518</td>\n",
       "    </tr>\n",
       "    <tr>\n",
       "      <th>0f38732507</th>\n",
       "      <td>0.000000</td>\n",
       "      <td>0.283706</td>\n",
       "      <td>0.078952</td>\n",
       "      <td>0.637342</td>\n",
       "    </tr>\n",
       "    <tr>\n",
       "      <th>f5c7687579</th>\n",
       "      <td>0.000000</td>\n",
       "      <td>0.288732</td>\n",
       "      <td>0.026002</td>\n",
       "      <td>0.685265</td>\n",
       "    </tr>\n",
       "    <tr>\n",
       "      <th>cd5fbeaa98</th>\n",
       "      <td>0.000000</td>\n",
       "      <td>0.189503</td>\n",
       "      <td>0.052890</td>\n",
       "      <td>0.757607</td>\n",
       "    </tr>\n",
       "    <tr>\n",
       "      <th>ff478456a9</th>\n",
       "      <td>0.008654</td>\n",
       "      <td>0.230677</td>\n",
       "      <td>0.000000</td>\n",
       "      <td>0.760668</td>\n",
       "    </tr>\n",
       "  </tbody>\n",
       "</table>\n",
       "<p>70 rows × 4 columns</p>\n",
       "</div>"
      ],
      "text/plain": [
       "              attack  investigation     mount     other\n",
       "1cac195d39  0.000000       0.077885  0.033818  0.888297\n",
       "b40d39ca72  0.000000       0.625136  0.000000  0.374864\n",
       "f45694e6b9  0.000000       0.375125  0.000000  0.624875\n",
       "9212f26324  0.015467       0.112307  0.000000  0.872226\n",
       "5490af36aa  0.438260       0.285662  0.010321  0.265757\n",
       "...              ...            ...       ...       ...\n",
       "bf702e3c78  0.000000       0.389482  0.000000  0.610518\n",
       "0f38732507  0.000000       0.283706  0.078952  0.637342\n",
       "f5c7687579  0.000000       0.288732  0.026002  0.685265\n",
       "cd5fbeaa98  0.000000       0.189503  0.052890  0.757607\n",
       "ff478456a9  0.008654       0.230677  0.000000  0.760668\n",
       "\n",
       "[70 rows x 4 columns]"
      ]
     },
     "execution_count": 12,
     "metadata": {},
     "output_type": "execute_result"
    }
   ],
   "source": [
    "vocabulary = train['vocabulary']\n",
    "def get_percentage(sequence_key):\n",
    "  anno_seq = num_to_text(train['sequences'][sequence_key]['annotations'])\n",
    "  counts = {k: np.mean(np.array(anno_seq) == k) for k in vocabulary}\n",
    "  return counts\n",
    "\n",
    "anno_percentages = {k: get_percentage(k) for k in train['sequences']}\n",
    "\n",
    "anno_perc_df = pd.DataFrame(anno_percentages).T\n",
    "print(\"Percentage of frames in every sequence for every class\")\n",
    "anno_perc_df"
   ]
  },
  {
   "cell_type": "markdown",
   "metadata": {
    "id": "QcGC3YGTU_9X"
   },
   "source": [
    "## Percentage Frames of all behaviors\n",
    "\n",
    "Lets look at the class imbalance!"
   ]
  },
  {
   "cell_type": "code",
   "execution_count": 13,
   "metadata": {
    "colab": {
     "base_uri": "https://localhost:8080/",
     "height": 173
    },
    "id": "1HFOPsoF_LAy",
    "outputId": "936ed365-227d-4728-c6f0-b3d2449a3878"
   },
   "outputs": [
    {
     "data": {
      "text/html": [
       "<div>\n",
       "<style scoped>\n",
       "    .dataframe tbody tr th:only-of-type {\n",
       "        vertical-align: middle;\n",
       "    }\n",
       "\n",
       "    .dataframe tbody tr th {\n",
       "        vertical-align: top;\n",
       "    }\n",
       "\n",
       "    .dataframe thead th {\n",
       "        text-align: right;\n",
       "    }\n",
       "</style>\n",
       "<table border=\"1\" class=\"dataframe\">\n",
       "  <thead>\n",
       "    <tr style=\"text-align: right;\">\n",
       "      <th></th>\n",
       "      <th>Behavior</th>\n",
       "      <th>Percentage Frames</th>\n",
       "    </tr>\n",
       "  </thead>\n",
       "  <tbody>\n",
       "    <tr>\n",
       "      <th>0</th>\n",
       "      <td>attack</td>\n",
       "      <td>0.027658</td>\n",
       "    </tr>\n",
       "    <tr>\n",
       "      <th>1</th>\n",
       "      <td>investigation</td>\n",
       "      <td>0.288777</td>\n",
       "    </tr>\n",
       "    <tr>\n",
       "      <th>2</th>\n",
       "      <td>mount</td>\n",
       "      <td>0.056372</td>\n",
       "    </tr>\n",
       "    <tr>\n",
       "      <th>3</th>\n",
       "      <td>other</td>\n",
       "      <td>0.627194</td>\n",
       "    </tr>\n",
       "  </tbody>\n",
       "</table>\n",
       "</div>"
      ],
      "text/plain": [
       "        Behavior  Percentage Frames\n",
       "0         attack           0.027658\n",
       "1  investigation           0.288777\n",
       "2          mount           0.056372\n",
       "3          other           0.627194"
      ]
     },
     "execution_count": 13,
     "metadata": {},
     "output_type": "execute_result"
    }
   ],
   "source": [
    "all_annotations = []\n",
    "for sk in train['sequences']:\n",
    "  anno = train['sequences'][sk]['annotations']\n",
    "  all_annotations.extend(list(anno))\n",
    "all_annotations = num_to_text(all_annotations)\n",
    "classes, counts = np.unique(all_annotations, return_counts=True)\n",
    "pd.DataFrame({\"Behavior\": classes,\n",
    "              \"Percentage Frames\": counts/len(all_annotations)})"
   ]
  },
  {
   "cell_type": "code",
   "execution_count": 1,
   "metadata": {
    "id": "RVOhbQBK4CdL"
   },
   "outputs": [],
   "source": [
    "## Transition matrix of behaviors"
   ]
  },
  {
   "cell_type": "code",
   "execution_count": null,
   "metadata": {},
   "outputs": [],
   "source": [
    "## "
   ]
  }
 ],
 "metadata": {
  "accelerator": "GPU",
  "colab": {
   "collapsed_sections": [],
   "name": "Copy of MABe Task 1: Classical Classification Baseline",
   "provenance": [],
   "toc_visible": true
  },
  "kernelspec": {
   "display_name": "Python 3",
   "language": "python",
   "name": "python3"
  },
  "language_info": {
   "codemirror_mode": {
    "name": "ipython",
    "version": 3
   },
   "file_extension": ".py",
   "mimetype": "text/x-python",
   "name": "python",
   "nbconvert_exporter": "python",
   "pygments_lexer": "ipython3",
   "version": "3.6.13"
  }
 },
 "nbformat": 4,
 "nbformat_minor": 1
}
