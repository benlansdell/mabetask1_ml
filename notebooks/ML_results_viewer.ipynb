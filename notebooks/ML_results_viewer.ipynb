{
 "cells": [
  {
   "cell_type": "code",
   "execution_count": 1,
   "id": "variable-navigator",
   "metadata": {},
   "outputs": [
    {
     "name": "stdout",
     "output_type": "stream",
     "text": [
      "/home/blansdel/projects/mabe/mabetask1\n"
     ]
    }
   ],
   "source": [
    "cd /home/blansdel/projects/mabe/mabetask1/"
   ]
  },
  {
   "cell_type": "code",
   "execution_count": 2,
   "id": "violent-prior",
   "metadata": {},
   "outputs": [
    {
     "data": {
      "text/plain": [
       "'/home/blansdel/projects/mabe/mabetask1'"
      ]
     },
     "execution_count": 2,
     "metadata": {},
     "output_type": "execute_result"
    }
   ],
   "source": [
    "pwd"
   ]
  },
  {
   "cell_type": "markdown",
   "id": "fifteen-extension",
   "metadata": {},
   "source": [
    "# Data to load from snapshots:\n",
    "\n",
    "* config.json\n",
    "* best_val_pred_probs\n",
    "* best_val_preds \n",
    "* best_val_labels\n",
    "* the analysis object... from which I can get the log directory...?\n",
    "\n",
    "* really, I would want also the training labels and predictions\n",
    "\n",
    "# Data from the ray_results:\n",
    "\n",
    "* checkpoints\n",
    "* events (for tensorboard)\n",
    "* progress.json\n",
    "* Not sure I need \n",
    "* Is that it?\n",
    "\n",
    "So mainly the data from snapshots is what I want...\n",
    "\n",
    "Can plot:\n",
    "\n",
    "For each of the runs I do (e.g. LSTM full, random, LSTM full BO, etc):\n",
    "\n",
    "* histogram of model validation performance\n",
    "* training curves for best performing model \n",
    "* confusion matrices for best model \n",
    "\n",
    "Correlation matrix between predictions of different methods\n",
    "\n",
    "Separate notebooks:\n",
    "\n",
    "* EDA of the training data\n",
    "* HMM and post-training optimizations"
   ]
  },
  {
   "cell_type": "code",
   "execution_count": 5,
   "id": "dressed-tablet",
   "metadata": {},
   "outputs": [],
   "source": [
    "path = '/home/blansdel/projects/mabe/mabetask1/snapshots/'"
   ]
  },
  {
   "cell_type": "code",
   "execution_count": 14,
   "id": "victorian-understanding",
   "metadata": {},
   "outputs": [],
   "source": [
    "import numpy as np\n",
    "import os\n",
    "import os.path\n",
    "\n",
    "import matplotlib.pyplot as plt\n",
    "import pandas as pd\n",
    "import pickle \n",
    "from matplotlib import rc\n",
    "\n",
    "import json\n",
    "\n",
    "from mabetask1.lib.config import *\n",
    "from mabetask1.lib.utils import animate_pose_sequence, plot_annotation_strip, num_to_text"
   ]
  },
  {
   "cell_type": "code",
   "execution_count": 17,
   "id": "governing-florence",
   "metadata": {},
   "outputs": [],
   "source": [
    "train = np.load('data/train.npy',allow_pickle=True).item()\n",
    "test = np.load('data/test.npy',allow_pickle=True).item()\n",
    "sample_submission = np.load('data/sample_submission.npy',allow_pickle=True).item()"
   ]
  },
  {
   "cell_type": "code",
   "execution_count": 18,
   "id": "stylish-convergence",
   "metadata": {},
   "outputs": [],
   "source": [
    "rc('animation', html='jshtml')\n",
    "\n",
    "class_to_number = {s: i for i, s in enumerate(train['vocabulary'])}\n",
    "number_to_class = {i: s for i, s in enumerate(train['vocabulary'])}"
   ]
  },
  {
   "cell_type": "code",
   "execution_count": 4,
   "id": "instrumental-panic",
   "metadata": {},
   "outputs": [],
   "source": [
    "#Load in results files\n",
    "fn_in = 'results/train_validation_features_distances_shifted_ml_rf_paramset_default.pkl'\n",
    "\n",
    "with open(fn_in, 'rb') as handle:\n",
    "    results = pickle.load(handle)\n",
    "\n",
    "\n",
    "#Compute performance of model\n",
    "\n",
    "#Make plot comparing preds"
   ]
  },
  {
   "cell_type": "code",
   "execution_count": 5,
   "id": "regulation-child",
   "metadata": {},
   "outputs": [
    {
     "data": {
      "text/plain": [
       "dict_keys(['pred_train', 'pred_val', 'X_train', 'y_train', 'groups_train', 'X_val', 'y_val', 'val_group'])"
      ]
     },
     "execution_count": 5,
     "metadata": {},
     "output_type": "execute_result"
    }
   ],
   "source": [
    "results.keys()"
   ]
  },
  {
   "cell_type": "code",
   "execution_count": 14,
   "id": "vertical-characteristic",
   "metadata": {},
   "outputs": [],
   "source": [
    "for k in results:\n",
    "    exec(f\"{k} = results['{k}']\")"
   ]
  },
  {
   "cell_type": "code",
   "execution_count": 15,
   "id": "determined-ordering",
   "metadata": {},
   "outputs": [
    {
     "data": {
      "text/plain": [
       "array([3, 3, 3, ..., 3, 3, 3])"
      ]
     },
     "execution_count": 15,
     "metadata": {},
     "output_type": "execute_result"
    }
   ],
   "source": [
    "pred_train"
   ]
  },
  {
   "cell_type": "code",
   "execution_count": 24,
   "id": "spread-lebanon",
   "metadata": {},
   "outputs": [
    {
     "data": {
      "image/png": "[encoded data removed]",
      "text/plain": [
       "<Figure size 1152x216 with 1 Axes>"
      ]
     },
     "metadata": {
      "needs_background": "light"
     },
     "output_type": "display_data"
    },
    {
     "data": {
      "image/png": "[encoded data removed]",
      "text/plain": [
       "<Figure size 1152x216 with 1 Axes>"
      ]
     },
     "metadata": {
      "needs_background": "light"
     },
     "output_type": "display_data"
    }
   ],
   "source": [
    "annotation_sequence = pred_val\n",
    "text_sequence = num_to_text(annotation_sequence, number_to_class)\n",
    " \n",
    "plot_annotation_strip(\n",
    "    text_sequence,\n",
    "    class_to_number,\n",
    "    start_frame=0,\n",
    "    stop_frame=int(len(annotation_sequence)/3) + 1000\n",
    ")\n",
    "\n",
    "annotation_sequence = y_val\n",
    "text_sequence = num_to_text(annotation_sequence, number_to_class)\n",
    " \n",
    "plot_annotation_strip(\n",
    "    text_sequence,\n",
    "    class_to_number,\n",
    "    start_frame=0,\n",
    "    stop_frame=int(len(annotation_sequence)/3) + 1000\n",
    ")"
   ]
  },
  {
   "cell_type": "markdown",
   "id": "printable-miniature",
   "metadata": {},
   "source": [
    "## Summary of results"
   ]
  },
  {
   "cell_type": "markdown",
   "id": "sorted-effects",
   "metadata": {},
   "source": [
    "* Load analysis object"
   ]
  },
  {
   "cell_type": "code",
   "execution_count": 17,
   "id": "catholic-positive",
   "metadata": {},
   "outputs": [],
   "source": [
    "def load_run(run_name, path):\n",
    "\n",
    "    run_dir = path + run_name + '/'\n",
    "    val_pred_probs = np.load(run_dir + 'best_val_pred_probs.npy')\n",
    "    val_pred = np.load(run_dir + 'best_val_preds.npy')\n",
    "\n",
    "    analysis = None\n",
    "    config = None \n",
    "    val_labels = None\n",
    "\n",
    "    fname = run_dir + 'config.json'\n",
    "    if os.path.isfile(fname):\n",
    "        with open(fname) as json_file:\n",
    "            config = json.load(json_file)\n",
    "\n",
    "    fname = run_dir + 'analysis_object.pkl'\n",
    "    if os.path.isfile(fname):\n",
    "        with open(fname, 'rb') as handle:\n",
    "            analysis = pickle.load(handle)\n",
    "\n",
    "    return (val_pred, val_pred_probs, val_labels, analysis, config)        "
   ]
  },
  {
   "cell_type": "code",
   "execution_count": 18,
   "id": "accepting-mailman",
   "metadata": {},
   "outputs": [],
   "source": [
    "run_name = 'lstm_test_run_bo'\n",
    "val_pred, val_pred_probs, val_labels, analysis, config = load_run(run_name, path)"
   ]
  },
  {
   "cell_type": "code",
   "execution_count": 20,
   "id": "relevant-forum",
   "metadata": {},
   "outputs": [],
   "source": [
    "#Confusion matrix"
   ]
  },
  {
   "cell_type": "code",
   "execution_count": 21,
   "id": "resistant-underwear",
   "metadata": {},
   "outputs": [],
   "source": [
    "#Extract best performance"
   ]
  },
  {
   "cell_type": "code",
   "execution_count": 22,
   "id": "suspended-arlington",
   "metadata": {},
   "outputs": [],
   "source": [
    "#Get traces"
   ]
  },
  {
   "cell_type": "code",
   "execution_count": 24,
   "id": "brazilian-pennsylvania",
   "metadata": {},
   "outputs": [],
   "source": [
    "#Load multiple results and plot correlations between predictions. Models that are diverse enough could be stacked for improvements"
   ]
  },
  {
   "cell_type": "code",
   "execution_count": null,
   "id": "based-outreach",
   "metadata": {},
   "outputs": [],
   "source": []
  }
 ],
 "metadata": {
  "kernelspec": {
   "display_name": "Python 3",
   "language": "python",
   "name": "python3"
  },
  "language_info": {
   "codemirror_mode": {
    "name": "ipython",
    "version": 3
   },
   "file_extension": ".py",
   "mimetype": "text/x-python",
   "name": "python",
   "nbconvert_exporter": "python",
   "pygments_lexer": "ipython3",
   "version": "3.6.13"
  }
 },
 "nbformat": 4,
 "nbformat_minor": 5
}
